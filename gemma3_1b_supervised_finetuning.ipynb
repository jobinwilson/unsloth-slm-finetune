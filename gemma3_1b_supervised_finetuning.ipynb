{
 "cells": [
  {
   "cell_type": "markdown",
   "id": "249326e7-8a0b-4d4e-a51b-f1f8ff7ef969",
   "metadata": {},
   "source": [
    "### Summary ###\n",
    "This notebook pre-trains a small language model (SLM) <b>gemma3-1b-it</b> for sentiment analysis. The basic idea is to frame the \"pre-training\" as a supervised fine-tuning (SFT) problem, where examples of prompt-completion pairs are used to fine-tune the SLM using PEFT technique. The user provides an instruction along with the text on which the model is to perform sentiment analysis, and the model returns its response. We compare the model’s performance on this task before and after fine-tuning to observe the gains.\n",
    "\n",
    "<b>Note:</b> We deliberately formulate this as a generative problem, as we will be subsequently fine-tuning the SLM for multiple NLP tasks. If the model were to be used only for a single classification task, a better approach would have been to attach a classification head to the SLM and then fine-tune it. We use <a href=\"https://unsloth.ai/\">Unsloth</a>, as it abstracts away a lot of complexities and enables fine-tuning on limited hardware (e.g., this notebook ran fine on an RTX 3060 with just 12GB of VRAM).\n",
    "\n",
    "To run this notebook locally, it is recommended to create a separate conda enviornment for unsloth using the following commands from your terminal\n",
    "<code>\n",
    "conda create -n unsloth_env python=3.10 -y\n",
    "conda activate unsloth_env\n",
    "pip install python-dotenv unsloth scikit-learn matplotlib pandas datasets trl\n",
    "</code>\n",
    "\n",
    "Optional Step: upgrade unsloth to latest version without updating the dependencies\n",
    "<code>\n",
    "pip install --force-reinstall --no-cache-dir --no-deps git+https://github.com/unslothai/unsloth.git \n",
    "</code>"
   ]
  },
  {
   "cell_type": "code",
   "execution_count": 1,
   "id": "16d6811e-61b2-4e09-a589-ed2722dc0070",
   "metadata": {},
   "outputs": [
    {
     "name": "stderr",
     "output_type": "stream",
     "text": [
      "/home/jobin/anaconda3/envs/unsloth_env/lib/python3.10/site-packages/tqdm/auto.py:21: TqdmWarning: IProgress not found. Please update jupyter and ipywidgets. See https://ipywidgets.readthedocs.io/en/stable/user_install.html\n",
      "  from .autonotebook import tqdm as notebook_tqdm\n"
     ]
    },
    {
     "name": "stdout",
     "output_type": "stream",
     "text": [
      "🦥 Unsloth: Will patch your computer to enable 2x faster free finetuning.\n",
      "🦥 Unsloth Zoo will now patch everything to make training faster!\n"
     ]
    }
   ],
   "source": [
    "import pandas as pd\n",
    "from sklearn.model_selection import train_test_split\n",
    "from sklearn.metrics import accuracy_score, classification_report, confusion_matrix\n",
    "from tqdm import tqdm\n",
    "from datasets import Dataset\n",
    "from unsloth import FastModel,FastLanguageModel\n",
    "from unsloth.chat_templates import get_chat_template, standardize_data_formats\n",
    "from trl import SFTTrainer, SFTConfig\n",
    "import torch\n",
    "import numpy as np\n",
    "import warnings\n",
    "import matplotlib.pyplot as plt\n",
    "from dotenv import load_dotenv\n",
    "import os\n",
    "warnings.filterwarnings(\"ignore\")"
   ]
  },
  {
   "cell_type": "markdown",
   "id": "831ffe88-19b7-48a8-84ad-b6e30c60d6e3",
   "metadata": {},
   "source": [
    "### 1. load dataset and analyze\n"
   ]
  },
  {
   "cell_type": "code",
   "execution_count": 2,
   "id": "9b749f61-ef7a-4fd5-8d47-258587310b44",
   "metadata": {},
   "outputs": [
    {
     "data": {
      "text/html": [
       "<div>\n",
       "<style scoped>\n",
       "    .dataframe tbody tr th:only-of-type {\n",
       "        vertical-align: middle;\n",
       "    }\n",
       "\n",
       "    .dataframe tbody tr th {\n",
       "        vertical-align: top;\n",
       "    }\n",
       "\n",
       "    .dataframe thead th {\n",
       "        text-align: right;\n",
       "    }\n",
       "</style>\n",
       "<table border=\"1\" class=\"dataframe\">\n",
       "  <thead>\n",
       "    <tr style=\"text-align: right;\">\n",
       "      <th></th>\n",
       "      <th>sentiment</th>\n",
       "      <th>text</th>\n",
       "    </tr>\n",
       "  </thead>\n",
       "  <tbody>\n",
       "    <tr>\n",
       "      <th>0</th>\n",
       "      <td>neutral</td>\n",
       "      <td>According to Gran , the company has no plans t...</td>\n",
       "    </tr>\n",
       "    <tr>\n",
       "      <th>1</th>\n",
       "      <td>neutral</td>\n",
       "      <td>Technopolis plans to develop in stages an area...</td>\n",
       "    </tr>\n",
       "    <tr>\n",
       "      <th>2</th>\n",
       "      <td>negative</td>\n",
       "      <td>The international electronic industry company ...</td>\n",
       "    </tr>\n",
       "    <tr>\n",
       "      <th>3</th>\n",
       "      <td>positive</td>\n",
       "      <td>With the new production plant the company woul...</td>\n",
       "    </tr>\n",
       "    <tr>\n",
       "      <th>4</th>\n",
       "      <td>positive</td>\n",
       "      <td>According to the company 's updated strategy f...</td>\n",
       "    </tr>\n",
       "  </tbody>\n",
       "</table>\n",
       "</div>"
      ],
      "text/plain": [
       "  sentiment                                               text\n",
       "0   neutral  According to Gran , the company has no plans t...\n",
       "1   neutral  Technopolis plans to develop in stages an area...\n",
       "2  negative  The international electronic industry company ...\n",
       "3  positive  With the new production plant the company woul...\n",
       "4  positive  According to the company 's updated strategy f..."
      ]
     },
     "execution_count": 2,
     "metadata": {},
     "output_type": "execute_result"
    }
   ],
   "source": [
    "## dataset source: https://www.kaggle.com/datasets/ankurzing/sentiment-analysis-for-financial-news\n",
    "full_data = pd.read_csv(\"all-data.csv\",names=[\"sentiment\", \"text\"],encoding=\"utf-8\", encoding_errors=\"replace\")\n",
    "## view datasample\n",
    "full_data.head()"
   ]
  },
  {
   "cell_type": "code",
   "execution_count": 3,
   "id": "253e0ab8-cc1d-4392-a0be-cb0f88f5c9c3",
   "metadata": {},
   "outputs": [
    {
     "data": {
      "text/plain": [
       "sentiment\n",
       "neutral     2879\n",
       "positive    1363\n",
       "negative     604\n",
       "Name: count, dtype: int64"
      ]
     },
     "execution_count": 3,
     "metadata": {},
     "output_type": "execute_result"
    }
   ],
   "source": [
    "## check class distribution\n",
    "full_data.sentiment.value_counts()"
   ]
  },
  {
   "cell_type": "markdown",
   "id": "ee311b7f-4ccc-4fed-a132-3bf51a642b25",
   "metadata": {},
   "source": [
    "### 2. Balance the dataset and create splits"
   ]
  },
  {
   "cell_type": "code",
   "execution_count": 4,
   "id": "04c75d4e-868f-4d0a-a77c-256663312364",
   "metadata": {},
   "outputs": [
    {
     "name": "stdout",
     "output_type": "stream",
     "text": [
      "Balancing to min class count: 600\n",
      "Creating splits:train=1350,vaidation=150,test=300\n",
      "Train: {'neutral': 450, 'positive': 450, 'negative': 450}\n",
      "Val: {'positive': 50, 'negative': 50, 'neutral': 50}\n",
      "Test: {'negative': 100, 'neutral': 100, 'positive': 100}\n"
     ]
    }
   ],
   "source": [
    "\n",
    "min_count = full_data.sentiment.value_counts().min()\n",
    "# round min_count to a multiple of 100\n",
    "min_count = min_count - min_count%100\n",
    "print(\"Balancing to min class count:\", min_count)\n",
    "df_splits = []\n",
    "for sentiment in full_data.sentiment.unique():\n",
    "    df_splits.append(full_data[full_data.sentiment == sentiment].sample(n = min_count, random_state=42))\n",
    "balanced_df = pd.concat(df_splits,axis=0)\n",
    "\n",
    "# === Shuffle and split === #\n",
    "train_df, test_df = train_test_split(balanced_df, test_size=300, stratify=balanced_df['sentiment'], random_state=42)\n",
    "train_df, val_df  = train_test_split(train_df, test_size=150, stratify=train_df['sentiment'], random_state=42)\n",
    "\n",
    "print(f'Creating splits:train={len(train_df)},vaidation={len(val_df)},test={len(test_df)}')\n",
    "# You can print value counts to confirm balance\n",
    "print(\"Train:\", train_df['sentiment'].value_counts().to_dict())\n",
    "print(\"Val:\", val_df['sentiment'].value_counts().to_dict())\n",
    "print(\"Test:\", test_df['sentiment'].value_counts().to_dict())\n",
    "\n",
    "## save the splits to run experiments from other notebooks/scripts\n",
    "train_df.to_csv(\"sentiment_train_split.csv\",index=False)\n",
    "val_df.to_csv(\"sentiment_validation_split.csv\",index=False)\n",
    "test_df.to_csv(\"sentiment_test_split.csv\",index=False)"
   ]
  },
  {
   "cell_type": "markdown",
   "id": "f1165a6a-4e5c-4517-bf5a-c6c79e50c2fe",
   "metadata": {},
   "source": [
    "### 3. Convert to Unsloth chat format"
   ]
  },
  {
   "cell_type": "code",
   "execution_count": 5,
   "id": "df7dc91d-c8fb-4a3e-8db7-b5896a8f17c4",
   "metadata": {},
   "outputs": [],
   "source": [
    "\n",
    "def format_as_conversations(df, test=False):\n",
    "    \n",
    "    prompt_template_new = (\n",
    "        \"Analyze the sentiment of the following news article text. \"\n",
    "        \"Return one of: positive, neutral, negative.\\n\\n\"\n",
    "        \"####Text: {text} =\"\n",
    "    )\n",
    "    conversations = []\n",
    "    for i in range(len(df)):\n",
    "        user_msg = prompt_template_new.format(text=df.iloc[i]['text'])\n",
    "        convo = [{\"role\": \"user\", \"content\": user_msg}]\n",
    "        if not test:\n",
    "            convo.append({\"role\": \"model\", \"content\": df.iloc[i]['sentiment']})\n",
    "        conversations.append(convo)\n",
    "    return {\"conversations\": conversations}\n",
    "\n",
    "train_ds = Dataset.from_dict(format_as_conversations(train_df))\n",
    "val_ds   = Dataset.from_dict(format_as_conversations(val_df))\n",
    "test_ds  = Dataset.from_dict(format_as_conversations(test_df, test=True))  # no labels here"
   ]
  },
  {
   "cell_type": "code",
   "execution_count": 7,
   "id": "5fef5206-3dd7-4c77-9d0f-8f6cf44d52f6",
   "metadata": {},
   "outputs": [],
   "source": [
    "## load huggingface token from .env file\n",
    "load_dotenv()\n",
    "hf_token=os.getenv(\"HF_TOKEN\")\n",
    "## add your huggingface token as some models may be gated"
   ]
  },
  {
   "cell_type": "markdown",
   "id": "ae0817ba-7ab7-4ab2-8047-0c8b0afc2f5d",
   "metadata": {},
   "source": [
    "##### optional: force download of a model snapshot to the local cache\n",
    "<code>\n",
    "from huggingface_hub import snapshot_download\n",
    "snapshot_download(repo_id=\"unsloth/gemma-3-1b-it\",token=hf_token)\n",
    "    \n",
    "</code>\n"
   ]
  },
  {
   "cell_type": "markdown",
   "id": "1001c5f9-9b76-4b11-a65f-7d6644590775",
   "metadata": {},
   "source": [
    "### 4. Load model and tokenizer"
   ]
  },
  {
   "cell_type": "code",
   "execution_count": 9,
   "id": "c6b1c11f-58fa-4b51-b6fa-ff9f6540f5e9",
   "metadata": {},
   "outputs": [
    {
     "name": "stdout",
     "output_type": "stream",
     "text": [
      "==((====))==  Unsloth 2025.6.2: Fast Gemma3 patching. Transformers: 4.52.4.\n",
      "   \\\\   /|    NVIDIA GeForce RTX 3060. Num GPUs = 1. Max memory: 11.762 GB. Platform: Linux.\n",
      "O^O/ \\_/ \\    Torch: 2.7.0+cu126. CUDA: 8.6. CUDA Toolkit: 12.6. Triton: 3.3.0\n",
      "\\        /    Bfloat16 = TRUE. FA [Xformers = 0.0.30. FA2 = False]\n",
      " \"-____-\"     Free license: http://github.com/unslothai/unsloth\n",
      "Unsloth: Fast downloading is enabled - ignore downloading bars which are red colored!\n"
     ]
    }
   ],
   "source": [
    "model, tokenizer = FastModel.from_pretrained(\n",
    "    model_name = \"unsloth/gemma-3-1b-it\",\n",
    "    max_seq_length = 2048, # Choose any for long context!\n",
    "    load_in_4bit = True,  # 4 bit quantization to reduce memory\n",
    "    load_in_8bit = False, # [NEW!] A bit more accurate, uses 2x memory\n",
    "    full_finetuning = False, # [NEW!] We have full finetuning now!\n",
    "    token=hf_token,\n",
    ")"
   ]
  },
  {
   "cell_type": "markdown",
   "id": "0b29de53-99dc-4b69-a46f-f5d51de588ae",
   "metadata": {},
   "source": [
    "### 5. Standardize & Apply chat templates for gemma3"
   ]
  },
  {
   "cell_type": "code",
   "execution_count": 10,
   "id": "a290c69b-b297-4ab0-ab0b-ddfea0a6a5b1",
   "metadata": {},
   "outputs": [
    {
     "name": "stderr",
     "output_type": "stream",
     "text": [
      "Unsloth: Standardizing formats (num_proc=12): 100%|█| 1350/1350 [00:00<00:00, 72\n",
      "Unsloth: Standardizing formats (num_proc=12): 100%|█| 150/150 [00:00<00:00, 885.\n",
      "Unsloth: Standardizing formats (num_proc=12): 100%|█| 300/300 [00:00<00:00, 1743\n",
      "Map: 100%|████████████████████████| 1350/1350 [00:00<00:00, 16469.11 examples/s]\n",
      "Map: 100%|██████████████████████████| 150/150 [00:00<00:00, 14364.71 examples/s]\n",
      "Map: 100%|██████████████████████████| 300/300 [00:00<00:00, 19722.74 examples/s]"
     ]
    },
    {
     "name": "stdout",
     "output_type": "stream",
     "text": [
      "{'conversations': [{'content': 'Analyze the sentiment of the following news article text. Return one of: positive, neutral, negative.\\n\\n####Text: Finnish investor Scanfil Oyj ( HEL : SCF1V ) said last Friday it has bought 57 million shares , or 32.96 % , in Norwegian contract electronics manufacturer Kitron ASA ( OSL : KIT ) for NOK 143.9 million ( USD 24.4 m-EUR 18.1 m ) . =', 'role': 'user'}, {'content': 'neutral', 'role': 'assistant'}], 'text': '<start_of_turn>user\\nAnalyze the sentiment of the following news article text. Return one of: positive, neutral, negative.\\n\\n####Text: Finnish investor Scanfil Oyj ( HEL : SCF1V ) said last Friday it has bought 57 million shares , or 32.96 % , in Norwegian contract electronics manufacturer Kitron ASA ( OSL : KIT ) for NOK 143.9 million ( USD 24.4 m-EUR 18.1 m ) . =<end_of_turn>\\n<start_of_turn>model\\nneutral<end_of_turn>\\n'}\n"
     ]
    },
    {
     "name": "stderr",
     "output_type": "stream",
     "text": [
      "\n"
     ]
    }
   ],
   "source": [
    "tokenizer = get_chat_template(tokenizer, chat_template=\"gemma-3\")\n",
    "\n",
    "\n",
    "train_ds = standardize_data_formats(train_ds, aliases_for_assistant=[\"model\"])\n",
    "val_ds   = standardize_data_formats(val_ds, aliases_for_assistant=[\"model\"])\n",
    "test_ds  = standardize_data_formats(test_ds, aliases_for_assistant=[\"model\"])\n",
    "\n",
    "def formatting_prompts_func(examples):\n",
    "    texts = [\n",
    "        tokenizer.apply_chat_template(conv, tokenize=False, add_generation_prompt=False).removeprefix(\"<bos>\")\n",
    "        for conv in examples[\"conversations\"]\n",
    "    ]\n",
    "    return {\"text\": texts}\n",
    "\n",
    "train_ds = train_ds.map(formatting_prompts_func, batched=True)\n",
    "val_ds   = val_ds.map(formatting_prompts_func, batched=True)\n",
    "test_ds  = test_ds.map(formatting_prompts_func, batched=True)\n",
    "print(train_ds[0])"
   ]
  },
  {
   "cell_type": "code",
   "execution_count": 11,
   "id": "ddc14301-0148-4b11-96c0-478dd7bf6af1",
   "metadata": {},
   "outputs": [
    {
     "name": "stdout",
     "output_type": "stream",
     "text": [
      "sample inference prompt:\n",
      "<start_of_turn>user\n",
      "Analyze the sentiment of the following news article text. Return one of: positive, neutral, negative.\n",
      "\n",
      "####Text: Finnish technology company Raute Corporation ( OMX Helsinki : RUTAV ) issued on Tuesday ( 23 September ) a profit warning for the financial year 2008 . =<end_of_turn>\n",
      "\n"
     ]
    }
   ],
   "source": [
    "print(f'sample inference prompt:\\n{test_ds[0][\"text\"]}')"
   ]
  },
  {
   "cell_type": "markdown",
   "id": "98b5f73e-c412-4fbf-8cf2-53a866704bc0",
   "metadata": {},
   "source": [
    "### 6. Define prediction and evaluation function"
   ]
  },
  {
   "cell_type": "code",
   "execution_count": 12,
   "id": "a1de537c-b9e9-4010-ba0a-baed673a670b",
   "metadata": {},
   "outputs": [],
   "source": [
    "def predict(test_dataset, model, tokenizer, device =\"cuda\", max_new_tokens = 5,\n",
    "            temperature = 1.0):\n",
    "    \"\"\"\n",
    "    Predict the sentiment of all texts in the passed dataframe\n",
    "    using the model and tokenizer. \n",
    "    \"\"\"\n",
    "    y_preds = [] # List to store predicted sentiment labels\n",
    "    model.eval() # Set model to evaluation mode\n",
    "    print(f'total inference samples={len(test_dataset)}')\n",
    "    # Iterate through each text in the test set\n",
    "    for i in tqdm(range(len(test_dataset)), desc=\"Inference Loop\"):\n",
    "        prompt = test_dataset[i]['text']\n",
    "        # Tokenize the prompt and move tensors to the correct device\n",
    "        input_ids = tokenizer(prompt, return_tensors=\"pt\").to(device)\n",
    "        # Generate output from the model\n",
    "        torch.manual_seed(42) ## for reproduciability\n",
    "        with torch.no_grad(): # Disable gradient calculations for inference\n",
    "             outputs = model.generate(**input_ids,\n",
    "                                      max_new_tokens=max_new_tokens,\n",
    "                                      temperature=temperature,\n",
    "                                      # Recommended Gemma-3 settings!\n",
    "                                       top_p = 0.95, top_k = 64,\n",
    "                                       pad_token_id=tokenizer.eos_token_id) # Avoid warning\n",
    "        # Decode the generated tokens (excluding the input prompt)\n",
    "        generated_text = tokenizer.decode(\n",
    "            outputs[0][input_ids[\"input_ids\"].shape[1]:],  # Slice off the input tokens\n",
    "            skip_special_tokens=True\n",
    "        ).strip().lower()\n",
    "       \n",
    "        if \"positive\" in generated_text:\n",
    "            y_preds.append(\"positive\")\n",
    "        elif \"negative\" in generated_text:\n",
    "            y_preds.append(\"negative\")\n",
    "        elif \"neutral\" in generated_text:\n",
    "            y_preds.append(\"neutral\")\n",
    "        else:\n",
    "            y_preds.append(\"none\")\n",
    "            \n",
    "    return y_preds\n",
    "\n",
    "def evaluate_predictions(y_true, y_pred):\n",
    "    \"\"\"Evaluate model's performance on sentiment analysis task\"\"\"\n",
    "\n",
    "    # map labels to int values for calculating scikit-learn metrics\n",
    "    label_mapping = {'positive': 1, 'neutral': 0, 'negative': -1}\n",
    "    # map 'none' predictions to neurtral\n",
    "    y_true_labels = np.array([label_mapping.get(label, 0) for label in y_true])\n",
    "    y_pred_labels = np.array([label_mapping.get(label, 0) for label in y_pred])\n",
    "\n",
    "    # Calculate overall accuracy\n",
    "    accuracy = accuracy_score(y_true_labels, y_pred_labels)\n",
    "    print(f'Overall Accuracy: {accuracy:.3f}')\n",
    "\n",
    "    # Compute accuracy for each sentiment label\n",
    "    unique_labels = np.unique(y_true_labels) # Get unique numeric labels\n",
    "\n",
    "    # Map numeric back to string for printing\n",
    "    reverse_label_mapping = {v: k for k, v in label_mapping.items()}\n",
    "\n",
    "    # print accuracy for each class\n",
    "    for label_num in unique_labels:\n",
    "        label_mask = y_true_labels == label_num # filter for current class\n",
    "        label_accuracy = accuracy_score(y_true_labels[label_mask], y_pred_labels[label_mask])\n",
    "        print(f'Accuracy for class {label_num} ({reverse_label_mapping[label_num]}): {label_accuracy:.3f}')\n",
    "\n",
    "    # Generate classification report using string labels for clarity\n",
    "    class_report = classification_report(y_true, y_pred, labels=[\"negative\", \"neutral\", \"positive\"], zero_division=0)\n",
    "    print('\\nClassification Report:\\n', class_report)\n",
    "\n",
    "    # Compute and display confusion matrix (using numeric labels)\n",
    "    # Ensure labels are ordered correctly: negative(-1), neutral(0), positive(1)\n",
    "    conf_matrix = confusion_matrix(y_true_labels, y_pred_labels, labels=[-1, 0, 1])\n",
    "    print('\\nConfusion Matrix (Rows: Ground Truth, Cols: Predictions)\\\n",
    "    \\n[Negetive, Neutral, Positive]:\\n', conf_matrix)"
   ]
  },
  {
   "cell_type": "code",
   "execution_count": 13,
   "id": "b08a5e0e-b039-4c2d-a6a0-e78120430eb1",
   "metadata": {},
   "outputs": [
    {
     "name": "stdout",
     "output_type": "stream",
     "text": [
      "Model Evaluation BEFORE fine-tuning:\n",
      "total inference samples=300\n"
     ]
    },
    {
     "name": "stderr",
     "output_type": "stream",
     "text": [
      "Inference Loop:   0%|                                   | 0/300 [00:00<?, ?it/s]You have set `compile_config`, but we are unable to meet the criteria for compilation. Compilation will be skipped.\n",
      "Inference Loop: 100%|█████████████████████████| 300/300 [01:38<00:00,  3.03it/s]\n"
     ]
    }
   ],
   "source": [
    "print(\"Model Evaluation BEFORE fine-tuning:\")\n",
    "y_true = test_df['sentiment'].tolist()\n",
    "y_pred = predict(test_ds, model, tokenizer)"
   ]
  },
  {
   "cell_type": "code",
   "execution_count": 14,
   "id": "7be2ebef-75bd-465b-8e8c-dceb8875110a",
   "metadata": {},
   "outputs": [
    {
     "name": "stdout",
     "output_type": "stream",
     "text": [
      "Overall Accuracy: 0.443\n",
      "Accuracy for class -1 (negative): 0.280\n",
      "Accuracy for class 0 (neutral): 0.890\n",
      "Accuracy for class 1 (positive): 0.160\n",
      "\n",
      "Classification Report:\n",
      "               precision    recall  f1-score   support\n",
      "\n",
      "    negative       0.82      0.28      0.42       100\n",
      "     neutral       0.75      0.03      0.06       100\n",
      "    positive       0.73      0.16      0.26       100\n",
      "\n",
      "   micro avg       0.78      0.16      0.26       300\n",
      "   macro avg       0.77      0.16      0.25       300\n",
      "weighted avg       0.77      0.16      0.25       300\n",
      "\n",
      "\n",
      "Confusion Matrix (Rows: Ground Truth, Cols: Predictions)    \n",
      "[Negetive, Neutral, Positive]:\n",
      " [[28 72  0]\n",
      " [ 5 89  6]\n",
      " [ 1 83 16]]\n"
     ]
    }
   ],
   "source": [
    "evaluate_predictions(y_true,y_pred)"
   ]
  },
  {
   "cell_type": "markdown",
   "id": "9254d586-d162-4185-b5c5-04b628208a75",
   "metadata": {},
   "source": [
    "### 7. Prepare model for PEFT fine-tuning"
   ]
  },
  {
   "cell_type": "code",
   "execution_count": 15,
   "id": "98db75a3-2e18-4d06-82a5-26d1eade2f21",
   "metadata": {},
   "outputs": [
    {
     "name": "stdout",
     "output_type": "stream",
     "text": [
      "Unsloth: Making `model.base_model.model.model` require gradients\n"
     ]
    },
    {
     "name": "stderr",
     "output_type": "stream",
     "text": [
      "Unsloth: Tokenizing [\"text\"] (num_proc=12): 100%|█| 1350/1350 [00:04<00:00, 272.\n",
      "Unsloth: Tokenizing [\"text\"] (num_proc=12): 100%|█| 150/150 [00:04<00:00, 30.64 \n"
     ]
    }
   ],
   "source": [
    "### prepare model adapter using unsloth's FastModel wrapper\n",
    "model = FastModel.get_peft_model(\n",
    "    model,\n",
    "    finetune_language_layers=True,\n",
    "    finetune_attention_modules=True,\n",
    "    finetune_mlp_modules=True,\n",
    "    r=8, ## LORA rank, keeping small value as task complexity is relatively low\n",
    "    lora_alpha=16, ## keep r*2\n",
    "    lora_dropout=0.05, ## for regularization\n",
    "    random_state = 3407,\n",
    ")\n",
    "\n",
    "## prepare trainer uisng HF TRL\n",
    "trainer = SFTTrainer(\n",
    "    model=model,\n",
    "    tokenizer=tokenizer,\n",
    "    train_dataset=train_ds,\n",
    "    eval_dataset=val_ds,\n",
    "    args=SFTConfig(\n",
    "        dataset_text_field=\"text\",\n",
    "        per_device_train_batch_size=2,\n",
    "        gradient_accumulation_steps=4,\n",
    "        learning_rate=2e-4,\n",
    "        num_train_epochs=2,\n",
    "        eval_steps=25,\n",
    "        eval_strategy=\"steps\",\n",
    "        save_strategy=\"steps\",\n",
    "        save_steps=25,\n",
    "        save_total_limit = 3, ## only keep best 3 models\n",
    "        load_best_model_at_end=True,\n",
    "        metric_for_best_model=\"eval_loss\",\n",
    "        greater_is_better=False,\n",
    "        logging_steps=5,\n",
    "        report_to=\"none\"\n",
    "    ),\n",
    ")\n",
    "\n"
   ]
  },
  {
   "cell_type": "code",
   "execution_count": 16,
   "id": "34f61e4f-df6a-46ec-bea0-f00ecb0d65be",
   "metadata": {},
   "outputs": [
    {
     "data": {
      "text/plain": [
       "'<bos><start_of_turn>user\\nAnalyze the sentiment of the following news article text. Return one of: positive, neutral, negative.\\n\\n####Text: Finnish investor Scanfil Oyj ( HEL : SCF1V ) said last Friday it has bought 57 million shares , or 32.96 % , in Norwegian contract electronics manufacturer Kitron ASA ( OSL : KIT ) for NOK 143.9 million ( USD 24.4 m-EUR 18.1 m ) . =<end_of_turn>\\n<start_of_turn>model\\nneutral<end_of_turn>\\n'"
      ]
     },
     "execution_count": 16,
     "metadata": {},
     "output_type": "execute_result"
    }
   ],
   "source": [
    "## check the tokens being passed by trainer\n",
    "tokenizer.decode(trainer.train_dataset[0]['input_ids'])"
   ]
  },
  {
   "cell_type": "code",
   "execution_count": 17,
   "id": "4e1d0b6b-4d3b-41d8-9f71-eb4c526105f8",
   "metadata": {},
   "outputs": [
    {
     "name": "stderr",
     "output_type": "stream",
     "text": [
      "==((====))==  Unsloth - 2x faster free finetuning | Num GPUs used = 1\n",
      "   \\\\   /|    Num examples = 1,350 | Num Epochs = 2 | Total steps = 338\n",
      "O^O/ \\_/ \\    Batch size per device = 2 | Gradient accumulation steps = 4\n",
      "\\        /    Data Parallel GPUs = 1 | Total batch size (2 x 4 x 1) = 8\n",
      " \"-____-\"     Trainable parameters = 6,522,880/1,000,000,000 (0.65% trained)\n",
      "`use_cache=True` is incompatible with gradient checkpointing. Setting `use_cache=False`.\n"
     ]
    },
    {
     "data": {
      "text/html": [
       "\n",
       "    <div>\n",
       "      \n",
       "      <progress value='338' max='338' style='width:300px; height:20px; vertical-align: middle;'></progress>\n",
       "      [338/338 08:45, Epoch 2/2]\n",
       "    </div>\n",
       "    <table border=\"1\" class=\"dataframe\">\n",
       "  <thead>\n",
       " <tr style=\"text-align: left;\">\n",
       "      <th>Step</th>\n",
       "      <th>Training Loss</th>\n",
       "      <th>Validation Loss</th>\n",
       "    </tr>\n",
       "  </thead>\n",
       "  <tbody>\n",
       "    <tr>\n",
       "      <td>25</td>\n",
       "      <td>3.031200</td>\n",
       "      <td>2.587815</td>\n",
       "    </tr>\n",
       "    <tr>\n",
       "      <td>50</td>\n",
       "      <td>1.760800</td>\n",
       "      <td>1.635527</td>\n",
       "    </tr>\n",
       "    <tr>\n",
       "      <td>75</td>\n",
       "      <td>1.431700</td>\n",
       "      <td>1.490345</td>\n",
       "    </tr>\n",
       "    <tr>\n",
       "      <td>100</td>\n",
       "      <td>1.482600</td>\n",
       "      <td>1.446823</td>\n",
       "    </tr>\n",
       "    <tr>\n",
       "      <td>125</td>\n",
       "      <td>1.470300</td>\n",
       "      <td>1.427758</td>\n",
       "    </tr>\n",
       "    <tr>\n",
       "      <td>150</td>\n",
       "      <td>1.572100</td>\n",
       "      <td>1.411520</td>\n",
       "    </tr>\n",
       "    <tr>\n",
       "      <td>175</td>\n",
       "      <td>1.361500</td>\n",
       "      <td>1.412309</td>\n",
       "    </tr>\n",
       "    <tr>\n",
       "      <td>200</td>\n",
       "      <td>1.272300</td>\n",
       "      <td>1.416526</td>\n",
       "    </tr>\n",
       "    <tr>\n",
       "      <td>225</td>\n",
       "      <td>1.301700</td>\n",
       "      <td>1.411238</td>\n",
       "    </tr>\n",
       "    <tr>\n",
       "      <td>250</td>\n",
       "      <td>1.176400</td>\n",
       "      <td>1.406128</td>\n",
       "    </tr>\n",
       "    <tr>\n",
       "      <td>275</td>\n",
       "      <td>1.183500</td>\n",
       "      <td>1.400285</td>\n",
       "    </tr>\n",
       "    <tr>\n",
       "      <td>300</td>\n",
       "      <td>1.275300</td>\n",
       "      <td>1.393849</td>\n",
       "    </tr>\n",
       "    <tr>\n",
       "      <td>325</td>\n",
       "      <td>1.188100</td>\n",
       "      <td>1.395169</td>\n",
       "    </tr>\n",
       "  </tbody>\n",
       "</table><p>"
      ],
      "text/plain": [
       "<IPython.core.display.HTML object>"
      ]
     },
     "metadata": {},
     "output_type": "display_data"
    },
    {
     "name": "stderr",
     "output_type": "stream",
     "text": [
      "Unsloth: Not an error, but Gemma3ForCausalLM does not accept `num_items_in_batch`.\n",
      "Using gradient accumulation will be very slightly less accurate.\n",
      "Read more on gradient accumulation issues here: https://unsloth.ai/blog/gradient\n"
     ]
    },
    {
     "data": {
      "text/plain": [
       "TrainOutput(global_step=338, training_loss=1.672223812024269, metrics={'train_runtime': 541.1589, 'train_samples_per_second': 4.989, 'train_steps_per_second': 0.625, 'total_flos': 876130923465216.0, 'train_loss': 1.672223812024269})"
      ]
     },
     "execution_count": 17,
     "metadata": {},
     "output_type": "execute_result"
    }
   ],
   "source": [
    "## start training\n",
    "trainer.train()"
   ]
  },
  {
   "cell_type": "code",
   "execution_count": 18,
   "id": "505f8442-37ba-465e-894c-aa79f9977d4e",
   "metadata": {},
   "outputs": [
    {
     "name": "stdout",
     "output_type": "stream",
     "text": [
      "Model Evaluation AFTER fine-tuning:\n",
      "total inference samples=300\n"
     ]
    },
    {
     "name": "stderr",
     "output_type": "stream",
     "text": [
      "Inference Loop: 100%|█████████████████████████| 300/300 [02:13<00:00,  2.24it/s]\n"
     ]
    }
   ],
   "source": [
    "print(\"Model Evaluation AFTER fine-tuning:\")\n",
    "y_pred_ft = predict(test_ds, model, tokenizer)"
   ]
  },
  {
   "cell_type": "code",
   "execution_count": 19,
   "id": "cdb0b394-737a-403d-a592-df9a8765051c",
   "metadata": {},
   "outputs": [
    {
     "name": "stdout",
     "output_type": "stream",
     "text": [
      "Overall Accuracy: 0.853\n",
      "Accuracy for class -1 (negative): 0.980\n",
      "Accuracy for class 0 (neutral): 0.770\n",
      "Accuracy for class 1 (positive): 0.810\n",
      "\n",
      "Classification Report:\n",
      "               precision    recall  f1-score   support\n",
      "\n",
      "    negative       0.86      0.98      0.92       100\n",
      "     neutral       0.83      0.77      0.80       100\n",
      "    positive       0.87      0.81      0.84       100\n",
      "\n",
      "    accuracy                           0.85       300\n",
      "   macro avg       0.85      0.85      0.85       300\n",
      "weighted avg       0.85      0.85      0.85       300\n",
      "\n",
      "\n",
      "Confusion Matrix (Rows: Ground Truth, Cols: Predictions)    \n",
      "[Negetive, Neutral, Positive]:\n",
      " [[98  2  0]\n",
      " [11 77 12]\n",
      " [ 5 14 81]]\n"
     ]
    }
   ],
   "source": [
    "evaluate_predictions(y_true,y_pred_ft)"
   ]
  },
  {
   "cell_type": "markdown",
   "id": "9834cad2-922a-4a63-ad3a-c34bf9b7532a",
   "metadata": {},
   "source": [
    "##### overall accuracy improved from 44.3% (before finetuning) to 85.3% (after finetuning)\n",
    "class level improvements in f-measure is also significant"
   ]
  },
  {
   "cell_type": "markdown",
   "id": "de001c8a-57d3-42c4-b2b8-555d408acb6b",
   "metadata": {},
   "source": [
    "### 8. Analyze learning curves / training and validation losses "
   ]
  },
  {
   "cell_type": "code",
   "execution_count": 20,
   "id": "192fd2a5-fecb-4bff-8c1e-b646faec276c",
   "metadata": {},
   "outputs": [],
   "source": [
    "evaluation_freq = 25 ## no. of steps in which evals happen\n",
    "train_logs = trainer.state.log_history\n",
    "train_losses = [log for log in train_logs if \"loss\" in log]\n",
    "eval_losses = [log for log in train_logs if  \"eval_loss\" in log]\n",
    "## extract losses as dataframes by filtering for steps for which both \"loss\" and \"eval_loss\" exist\n",
    "train_loss_df = pd.DataFrame(train_losses)\n",
    "train_loss_df = train_loss_df[train_loss_df.step%evaluation_freq==0]\n",
    "eval_losses_df = pd.DataFrame(eval_losses)\n",
    "eval_losses_df = eval_losses_df[eval_losses_df.step%evaluation_freq==0]"
   ]
  },
  {
   "cell_type": "code",
   "execution_count": 21,
   "id": "4ce8301f-5d46-4b45-8cf6-a426c100160b",
   "metadata": {},
   "outputs": [
    {
     "data": {
      "image/png": "[encoded data removed]",
      "text/plain": [
       "<Figure size 1000x400 with 1 Axes>"
      ]
     },
     "metadata": {},
     "output_type": "display_data"
    }
   ],
   "source": [
    "## plot the losses\n",
    "plt.figure(figsize=(10, 4))\n",
    "plt.plot(train_loss_df['step'], train_loss_df['loss'], label='Training')\n",
    "plt.plot(eval_losses_df['step'], eval_losses_df['eval_loss'], label='Validation')\n",
    "plt.xlabel('Step')\n",
    "plt.ylabel('Loss')\n",
    "plt.title('Training & Validation Loss')\n",
    "plt.legend()\n",
    "plt.grid(True)"
   ]
  },
  {
   "cell_type": "code",
   "execution_count": 22,
   "id": "eeb08a6b-dfda-4c1b-b4ad-039970054550",
   "metadata": {},
   "outputs": [
    {
     "data": {
      "text/plain": [
       "('gemma3-1b-sentiment-ft-adapter/tokenizer_config.json',\n",
       " 'gemma3-1b-sentiment-ft-adapter/special_tokens_map.json',\n",
       " 'gemma3-1b-sentiment-ft-adapter/chat_template.jinja',\n",
       " 'gemma3-1b-sentiment-ft-adapter/tokenizer.model',\n",
       " 'gemma3-1b-sentiment-ft-adapter/added_tokens.json',\n",
       " 'gemma3-1b-sentiment-ft-adapter/tokenizer.json')"
      ]
     },
     "execution_count": 22,
     "metadata": {},
     "output_type": "execute_result"
    }
   ],
   "source": [
    "## save final model as LoRA adapters\n",
    "model.save_pretrained(\"gemma3-1b-sentiment-ft-adapter\")  # Local saving\n",
    "tokenizer.save_pretrained(\"gemma3-1b-sentiment-ft-adapter\")"
   ]
  },
  {
   "cell_type": "code",
   "execution_count": 23,
   "id": "c99a0d80-1c19-4050-a52e-8d010ade9655",
   "metadata": {},
   "outputs": [
    {
     "name": "stdout",
     "output_type": "stream",
     "text": [
      "Found HuggingFace hub cache directory: /home/jobin/.cache/huggingface/hub\n",
      "Checking cache directory for required files...\n",
      "Successfully copied all 1 files from cache to gemma3-1b-sentiment-ft.\n"
     ]
    },
    {
     "name": "stderr",
     "output_type": "stream",
     "text": [
      "Unsloth: Merging weights into 16bit: 100%|████████| 1/1 [00:04<00:00,  4.56s/it]\n"
     ]
    }
   ],
   "source": [
    "## SAVE FINETUNED MODEL LOCALLY (After merging PEFT weights) ##\n",
    "model.save_pretrained_merged(\"gemma3-1b-sentiment-ft\", tokenizer,token=hf_token)"
   ]
  },
  {
   "cell_type": "code",
   "execution_count": 24,
   "id": "5871d1c8-b4aa-48c1-94e2-cc96ddc541d3",
   "metadata": {},
   "outputs": [
    {
     "name": "stdout",
     "output_type": "stream",
     "text": [
      "Unsloth: Updating system package directories\n",
      "Unsloth: All commands will now use admin permissions (sudo)\n",
      "Unsloth: Install GGUF and other packages\n",
      "Unsloth GGUF:hf-to-gguf:Loading model: gemma3-1b-sentiment-ft\n",
      "Unsloth GGUF:hf-to-gguf:Model architecture: Gemma3ForCausalLM\n",
      "Unsloth GGUF:gguf.gguf_writer:gguf: This GGUF file is for Little Endian only\n",
      "Unsloth GGUF:hf-to-gguf:Exporting model...\n",
      "Unsloth GGUF:hf-to-gguf:gguf: loading model part 'model.safetensors'\n",
      "Unsloth GGUF:hf-to-gguf:token_embd.weight,                 torch.bfloat16 --> Q8_0, shape = {1152, 262144}\n",
      "Unsloth GGUF:hf-to-gguf:output_norm.weight,                torch.bfloat16 --> F32, shape = {1152}\n",
      "Unsloth GGUF:hf-to-gguf:Set meta model\n",
      "Unsloth GGUF:hf-to-gguf:Set model parameters\n",
      "Unsloth GGUF:hf-to-gguf:Set model quantization version\n",
      "Unsloth GGUF:hf-to-gguf:Set model tokenizer\n",
      "Unsloth GGUF:gguf.vocab:Setting special token type bos to 2\n",
      "Unsloth GGUF:gguf.vocab:Setting special token type eos to 106\n",
      "Unsloth GGUF:gguf.vocab:Setting special token type unk to 3\n",
      "Unsloth GGUF:gguf.vocab:Setting special token type pad to 0\n",
      "Unsloth GGUF:gguf.vocab:Setting add_bos_token to True\n",
      "Unsloth GGUF:gguf.vocab:Setting add_sep_token to False\n",
      "Unsloth GGUF:gguf.vocab:Setting add_eos_token to False\n",
      "Unsloth GGUF:gguf.gguf_writer:Writing the following files:\n",
      "Unsloth GGUF:gguf.gguf_writer:gemma3-1b-sentiment-ft.Q8_0.gguf: n_tensors = 340, total_size = 1.1G\n",
      "\n"
     ]
    },
    {
     "name": "stderr",
     "output_type": "stream",
     "text": [
      "Unsloth: GGUF conversion: 100%|██| 100/100 [00:04<00:00, 16.64it/s, 1.06G/1.06G]"
     ]
    },
    {
     "name": "stdout",
     "output_type": "stream",
     "text": [
      "Unsloth GGUF:hf-to-gguf:Model successfully exported to ./\n"
     ]
    },
    {
     "name": "stderr",
     "output_type": "stream",
     "text": [
      "Unsloth: GGUF conversion: 100%|██| 100/100 [00:04<00:00, 21.71it/s, 1.06G/1.06G]"
     ]
    },
    {
     "name": "stdout",
     "output_type": "stream",
     "text": [
      "Unsloth: Converted to gemma3-1b-sentiment-ft.Q8_0.gguf with size = 1.1G\n",
      "Unsloth: Successfully saved GGUF to:\n",
      "gemma3-1b-sentiment-ft.Q8_0.gguf\n"
     ]
    },
    {
     "name": "stderr",
     "output_type": "stream",
     "text": [
      "\n"
     ]
    },
    {
     "data": {
      "text/plain": [
       "['gemma3-1b-sentiment-ft.Q8_0.gguf']"
      ]
     },
     "execution_count": 24,
     "metadata": {},
     "output_type": "execute_result"
    }
   ],
   "source": [
    "## save the finetuned model for local inference on CPU, as GGUF file\n",
    "model.save_pretrained_gguf(\"gemma3-1b-sentiment-ft\",\n",
    "                           quantization_type = \"Q8_0\", # Only Q8_0, BF16, F16 supported currently\n",
    "   )"
   ]
  }
 ],
 "metadata": {
  "kernelspec": {
   "display_name": "Python 3 (ipykernel)",
   "language": "python",
   "name": "python3"
  },
  "language_info": {
   "codemirror_mode": {
    "name": "ipython",
    "version": 3
   },
   "file_extension": ".py",
   "mimetype": "text/x-python",
   "name": "python",
   "nbconvert_exporter": "python",
   "pygments_lexer": "ipython3",
   "version": "3.10.18"
  }
 },
 "nbformat": 4,
 "nbformat_minor": 5
}
